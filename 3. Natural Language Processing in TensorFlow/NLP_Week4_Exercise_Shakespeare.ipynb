{
  "nbformat": 4,
  "nbformat_minor": 0,
  "metadata": {
    "accelerator": "GPU",
    "colab": {
      "name": "NLP_Week4_Exercise_Shakespeare_Answer.ipynb",
      "provenance": [],
      "toc_visible": true
    },
    "kernelspec": {
      "display_name": "Python 3",
      "name": "python3"
    }
  },
  "cells": [
    {
      "cell_type": "code",
      "metadata": {
        "id": "zX4Kg8DUTKWO",
        "colab_type": "code",
        "colab": {}
      },
      "source": [
        "#@title Licensed under the Apache License, Version 2.0 (the \"License\");\n",
        "# you may not use this file except in compliance with the License.\n",
        "# You may obtain a copy of the License at\n",
        "#\n",
        "# https://www.apache.org/licenses/LICENSE-2.0\n",
        "#\n",
        "# Unless required by applicable law or agreed to in writing, software\n",
        "# distributed under the License is distributed on an \"AS IS\" BASIS,\n",
        "# WITHOUT WARRANTIES OR CONDITIONS OF ANY KIND, either express or implied.\n",
        "# See the License for the specific language governing permissions and\n",
        "# limitations under the License."
      ],
      "execution_count": 0,
      "outputs": []
    },
    {
      "cell_type": "code",
      "metadata": {
        "colab_type": "code",
        "id": "BOwsuGQQY9OL",
        "colab": {}
      },
      "source": [
        "from tensorflow.keras.preprocessing.sequence import pad_sequences\n",
        "from tensorflow.keras.layers import Embedding, LSTM, Dense, Dropout, Bidirectional\n",
        "from tensorflow.keras.preprocessing.text import Tokenizer\n",
        "from tensorflow.keras.models import Sequential\n",
        "from tensorflow.keras.optimizers import Adam\n",
        "from tensorflow.keras import regularizers\n",
        "import tensorflow.keras.utils as ku \n",
        "import numpy as np "
      ],
      "execution_count": 0,
      "outputs": []
    },
    {
      "cell_type": "code",
      "metadata": {
        "colab_type": "code",
        "id": "PRnDnCW-Z7qv",
        "colab": {
          "base_uri": "https://localhost:8080/",
          "height": 204
        },
        "outputId": "1dab6b0a-602e-42cc-e08c-616b02276d92"
      },
      "source": [
        "tokenizer = Tokenizer()\n",
        "!wget --no-check-certificate \\\n",
        "    https://storage.googleapis.com/laurencemoroney-blog.appspot.com/sonnets.txt \\\n",
        "    -O /tmp/sonnets.txt\n",
        "data = open('/tmp/sonnets.txt').read()\n",
        "\n",
        "corpus = data.lower().split(\"\\n\")\n",
        "\n",
        "\n",
        "tokenizer.fit_on_texts(corpus)\n",
        "total_words = len(tokenizer.word_index) + 1\n",
        "\n",
        "# create input sequences using list of tokens\n",
        "input_sequences = []\n",
        "for line in corpus:\n",
        "\ttoken_list = tokenizer.texts_to_sequences([line])[0]\n",
        "\tfor i in range(1, len(token_list)):\n",
        "\t\tn_gram_sequence = token_list[:i+1]\n",
        "\t\tinput_sequences.append(n_gram_sequence)\n",
        "\n",
        "\n",
        "# pad sequences \n",
        "max_sequence_len = max([len(x) for x in input_sequences])\n",
        "input_sequences = np.array(pad_sequences(input_sequences, maxlen=max_sequence_len, padding='pre'))\n",
        "\n",
        "# create predictors and label\n",
        "predictors, label = input_sequences[:,:-1],input_sequences[:,-1]\n",
        "\n",
        "label = ku.to_categorical(label, num_classes=total_words)"
      ],
      "execution_count": 2,
      "outputs": [
        {
          "output_type": "stream",
          "text": [
            "--2020-06-04 13:41:04--  https://storage.googleapis.com/laurencemoroney-blog.appspot.com/sonnets.txt\n",
            "Resolving storage.googleapis.com (storage.googleapis.com)... 108.177.119.128, 2a00:1450:4013:c08::80\n",
            "Connecting to storage.googleapis.com (storage.googleapis.com)|108.177.119.128|:443... connected.\n",
            "HTTP request sent, awaiting response... 200 OK\n",
            "Length: 93578 (91K) [text/plain]\n",
            "Saving to: ‘/tmp/sonnets.txt’\n",
            "\n",
            "\r/tmp/sonnets.txt      0%[                    ]       0  --.-KB/s               \r/tmp/sonnets.txt    100%[===================>]  91.38K  --.-KB/s    in 0.001s  \n",
            "\n",
            "2020-06-04 13:41:04 (140 MB/s) - ‘/tmp/sonnets.txt’ saved [93578/93578]\n",
            "\n"
          ],
          "name": "stdout"
        }
      ]
    },
    {
      "cell_type": "code",
      "metadata": {
        "colab_type": "code",
        "id": "w9vH8Y59ajYL",
        "colab": {
          "base_uri": "https://localhost:8080/",
          "height": 374
        },
        "outputId": "b91c3df3-5531-41dd-9993-db9a0f18fc91"
      },
      "source": [
        "model = Sequential()\n",
        "model.add(Embedding(total_words, 100, input_length=max_sequence_len-1))\n",
        "model.add(Bidirectional(LSTM(150, return_sequences = True)))\n",
        "model.add(Dropout(0.2))\n",
        "model.add(LSTM(100))\n",
        "model.add(Dense(total_words/2, activation='relu', kernel_regularizer=regularizers.l2(0.01)))\n",
        "model.add(Dense(total_words, activation='softmax'))\n",
        "model.compile(loss='categorical_crossentropy', optimizer='adam', metrics=['accuracy'])\n",
        "print(model.summary())\n"
      ],
      "execution_count": 3,
      "outputs": [
        {
          "output_type": "stream",
          "text": [
            "Model: \"sequential\"\n",
            "_________________________________________________________________\n",
            "Layer (type)                 Output Shape              Param #   \n",
            "=================================================================\n",
            "embedding (Embedding)        (None, 10, 100)           321100    \n",
            "_________________________________________________________________\n",
            "bidirectional (Bidirectional (None, 10, 300)           301200    \n",
            "_________________________________________________________________\n",
            "dropout (Dropout)            (None, 10, 300)           0         \n",
            "_________________________________________________________________\n",
            "lstm_1 (LSTM)                (None, 100)               160400    \n",
            "_________________________________________________________________\n",
            "dense (Dense)                (None, 1605)              162105    \n",
            "_________________________________________________________________\n",
            "dense_1 (Dense)              (None, 3211)              5156866   \n",
            "=================================================================\n",
            "Total params: 6,101,671\n",
            "Trainable params: 6,101,671\n",
            "Non-trainable params: 0\n",
            "_________________________________________________________________\n",
            "None\n"
          ],
          "name": "stdout"
        }
      ]
    },
    {
      "cell_type": "code",
      "metadata": {
        "colab_type": "code",
        "id": "AIg2f1HBxqof",
        "colab": {
          "base_uri": "https://localhost:8080/",
          "height": 1000
        },
        "outputId": "a24e6418-1157-48f9-f23f-5ce94a0ec029"
      },
      "source": [
        " history = model.fit(predictors, label, epochs=100, verbose=1)"
      ],
      "execution_count": 4,
      "outputs": [
        {
          "output_type": "stream",
          "text": [
            "Epoch 1/100\n",
            "484/484 [==============================] - 5s 10ms/step - loss: 6.9086 - accuracy: 0.0204\n",
            "Epoch 2/100\n",
            "484/484 [==============================] - 5s 10ms/step - loss: 6.5056 - accuracy: 0.0222\n",
            "Epoch 3/100\n",
            "484/484 [==============================] - 5s 10ms/step - loss: 6.4153 - accuracy: 0.0235\n",
            "Epoch 4/100\n",
            "484/484 [==============================] - 5s 11ms/step - loss: 6.2965 - accuracy: 0.0288\n",
            "Epoch 5/100\n",
            "484/484 [==============================] - 5s 10ms/step - loss: 6.2115 - accuracy: 0.0310\n",
            "Epoch 6/100\n",
            "484/484 [==============================] - 5s 10ms/step - loss: 6.1417 - accuracy: 0.0341\n",
            "Epoch 7/100\n",
            "484/484 [==============================] - 5s 10ms/step - loss: 6.0690 - accuracy: 0.0389\n",
            "Epoch 8/100\n",
            "484/484 [==============================] - 5s 10ms/step - loss: 5.9980 - accuracy: 0.0400\n",
            "Epoch 9/100\n",
            "484/484 [==============================] - 5s 10ms/step - loss: 5.9292 - accuracy: 0.0437\n",
            "Epoch 10/100\n",
            "484/484 [==============================] - 5s 10ms/step - loss: 5.8564 - accuracy: 0.0466\n",
            "Epoch 11/100\n",
            "484/484 [==============================] - 5s 10ms/step - loss: 5.7814 - accuracy: 0.0520\n",
            "Epoch 12/100\n",
            "484/484 [==============================] - 5s 10ms/step - loss: 5.7022 - accuracy: 0.0555\n",
            "Epoch 13/100\n",
            "484/484 [==============================] - 5s 10ms/step - loss: 5.6069 - accuracy: 0.0607\n",
            "Epoch 14/100\n",
            "484/484 [==============================] - 5s 10ms/step - loss: 5.5210 - accuracy: 0.0672\n",
            "Epoch 15/100\n",
            "484/484 [==============================] - 5s 10ms/step - loss: 5.4290 - accuracy: 0.0720\n",
            "Epoch 16/100\n",
            "484/484 [==============================] - 5s 10ms/step - loss: 5.3352 - accuracy: 0.0765\n",
            "Epoch 17/100\n",
            "484/484 [==============================] - 5s 10ms/step - loss: 5.2481 - accuracy: 0.0836\n",
            "Epoch 18/100\n",
            "484/484 [==============================] - 5s 10ms/step - loss: 5.1595 - accuracy: 0.0900\n",
            "Epoch 19/100\n",
            "484/484 [==============================] - 5s 10ms/step - loss: 5.0751 - accuracy: 0.0977\n",
            "Epoch 20/100\n",
            "484/484 [==============================] - 5s 10ms/step - loss: 4.9932 - accuracy: 0.1013\n",
            "Epoch 21/100\n",
            "484/484 [==============================] - 5s 10ms/step - loss: 4.9051 - accuracy: 0.1092\n",
            "Epoch 22/100\n",
            "484/484 [==============================] - 5s 10ms/step - loss: 4.8231 - accuracy: 0.1137\n",
            "Epoch 23/100\n",
            "484/484 [==============================] - 5s 10ms/step - loss: 4.7326 - accuracy: 0.1251\n",
            "Epoch 24/100\n",
            "484/484 [==============================] - 5s 10ms/step - loss: 4.6491 - accuracy: 0.1301\n",
            "Epoch 25/100\n",
            "484/484 [==============================] - 5s 10ms/step - loss: 4.5671 - accuracy: 0.1393\n",
            "Epoch 26/100\n",
            "484/484 [==============================] - 5s 10ms/step - loss: 4.4823 - accuracy: 0.1448\n",
            "Epoch 27/100\n",
            "484/484 [==============================] - 5s 10ms/step - loss: 4.3958 - accuracy: 0.1523\n",
            "Epoch 28/100\n",
            "484/484 [==============================] - 5s 10ms/step - loss: 4.3143 - accuracy: 0.1660\n",
            "Epoch 29/100\n",
            "484/484 [==============================] - 5s 10ms/step - loss: 4.2288 - accuracy: 0.1757\n",
            "Epoch 30/100\n",
            "484/484 [==============================] - 5s 10ms/step - loss: 4.1432 - accuracy: 0.1824\n",
            "Epoch 31/100\n",
            "484/484 [==============================] - 5s 10ms/step - loss: 4.0644 - accuracy: 0.1973\n",
            "Epoch 32/100\n",
            "484/484 [==============================] - 5s 10ms/step - loss: 3.9791 - accuracy: 0.2054\n",
            "Epoch 33/100\n",
            "484/484 [==============================] - 5s 10ms/step - loss: 3.8970 - accuracy: 0.2165\n",
            "Epoch 34/100\n",
            "484/484 [==============================] - 5s 10ms/step - loss: 3.8245 - accuracy: 0.2313\n",
            "Epoch 35/100\n",
            "484/484 [==============================] - 5s 10ms/step - loss: 3.7457 - accuracy: 0.2436\n",
            "Epoch 36/100\n",
            "484/484 [==============================] - 5s 10ms/step - loss: 3.6653 - accuracy: 0.2632\n",
            "Epoch 37/100\n",
            "484/484 [==============================] - 5s 10ms/step - loss: 3.5913 - accuracy: 0.2761\n",
            "Epoch 38/100\n",
            "484/484 [==============================] - 5s 10ms/step - loss: 3.5330 - accuracy: 0.2884\n",
            "Epoch 39/100\n",
            "484/484 [==============================] - 5s 10ms/step - loss: 3.4603 - accuracy: 0.3055\n",
            "Epoch 40/100\n",
            "484/484 [==============================] - 5s 10ms/step - loss: 3.3853 - accuracy: 0.3164\n",
            "Epoch 41/100\n",
            "484/484 [==============================] - 5s 10ms/step - loss: 3.3244 - accuracy: 0.3324\n",
            "Epoch 42/100\n",
            "484/484 [==============================] - 5s 10ms/step - loss: 3.2565 - accuracy: 0.3448\n",
            "Epoch 43/100\n",
            "484/484 [==============================] - 5s 10ms/step - loss: 3.1901 - accuracy: 0.3589\n",
            "Epoch 44/100\n",
            "484/484 [==============================] - 5s 10ms/step - loss: 3.1300 - accuracy: 0.3727\n",
            "Epoch 45/100\n",
            "484/484 [==============================] - 5s 10ms/step - loss: 3.0751 - accuracy: 0.3880\n",
            "Epoch 46/100\n",
            "484/484 [==============================] - 5s 10ms/step - loss: 3.0182 - accuracy: 0.3980\n",
            "Epoch 47/100\n",
            "484/484 [==============================] - 5s 10ms/step - loss: 2.9506 - accuracy: 0.4151\n",
            "Epoch 48/100\n",
            "484/484 [==============================] - 5s 10ms/step - loss: 2.9060 - accuracy: 0.4257\n",
            "Epoch 49/100\n",
            "484/484 [==============================] - 5s 10ms/step - loss: 2.8474 - accuracy: 0.4384\n",
            "Epoch 50/100\n",
            "484/484 [==============================] - 5s 10ms/step - loss: 2.7876 - accuracy: 0.4486\n",
            "Epoch 51/100\n",
            "484/484 [==============================] - 5s 10ms/step - loss: 2.7421 - accuracy: 0.4598\n",
            "Epoch 52/100\n",
            "484/484 [==============================] - 5s 10ms/step - loss: 2.6910 - accuracy: 0.4709\n",
            "Epoch 53/100\n",
            "484/484 [==============================] - 5s 10ms/step - loss: 2.6537 - accuracy: 0.4799\n",
            "Epoch 54/100\n",
            "484/484 [==============================] - 5s 10ms/step - loss: 2.6066 - accuracy: 0.4950\n",
            "Epoch 55/100\n",
            "484/484 [==============================] - 5s 10ms/step - loss: 2.5562 - accuracy: 0.5052\n",
            "Epoch 56/100\n",
            "484/484 [==============================] - 5s 10ms/step - loss: 2.5081 - accuracy: 0.5139\n",
            "Epoch 57/100\n",
            "484/484 [==============================] - 5s 11ms/step - loss: 2.4629 - accuracy: 0.5224\n",
            "Epoch 58/100\n",
            "484/484 [==============================] - 5s 11ms/step - loss: 2.4142 - accuracy: 0.5353\n",
            "Epoch 59/100\n",
            "484/484 [==============================] - 5s 11ms/step - loss: 2.3789 - accuracy: 0.5452\n",
            "Epoch 60/100\n",
            "484/484 [==============================] - 5s 10ms/step - loss: 2.3402 - accuracy: 0.5516\n",
            "Epoch 61/100\n",
            "484/484 [==============================] - 5s 10ms/step - loss: 2.2943 - accuracy: 0.5638\n",
            "Epoch 62/100\n",
            "484/484 [==============================] - 5s 10ms/step - loss: 2.2607 - accuracy: 0.5661\n",
            "Epoch 63/100\n",
            "484/484 [==============================] - 5s 10ms/step - loss: 2.2293 - accuracy: 0.5751\n",
            "Epoch 64/100\n",
            "484/484 [==============================] - 5s 10ms/step - loss: 2.1951 - accuracy: 0.5819\n",
            "Epoch 65/100\n",
            "484/484 [==============================] - 5s 10ms/step - loss: 2.1663 - accuracy: 0.5941\n",
            "Epoch 66/100\n",
            "484/484 [==============================] - 5s 10ms/step - loss: 2.1238 - accuracy: 0.6012\n",
            "Epoch 67/100\n",
            "484/484 [==============================] - 5s 10ms/step - loss: 2.0799 - accuracy: 0.6118\n",
            "Epoch 68/100\n",
            "484/484 [==============================] - 5s 10ms/step - loss: 2.0571 - accuracy: 0.6169\n",
            "Epoch 69/100\n",
            "484/484 [==============================] - 5s 10ms/step - loss: 2.0293 - accuracy: 0.6200\n",
            "Epoch 70/100\n",
            "484/484 [==============================] - 5s 10ms/step - loss: 1.9993 - accuracy: 0.6284\n",
            "Epoch 71/100\n",
            "484/484 [==============================] - 5s 10ms/step - loss: 1.9555 - accuracy: 0.6365\n",
            "Epoch 72/100\n",
            "484/484 [==============================] - 5s 10ms/step - loss: 1.9325 - accuracy: 0.6388\n",
            "Epoch 73/100\n",
            "484/484 [==============================] - 5s 10ms/step - loss: 1.9089 - accuracy: 0.6491\n",
            "Epoch 74/100\n",
            "484/484 [==============================] - 5s 10ms/step - loss: 1.8755 - accuracy: 0.6568\n",
            "Epoch 75/100\n",
            "484/484 [==============================] - 5s 10ms/step - loss: 1.8569 - accuracy: 0.6576\n",
            "Epoch 76/100\n",
            "484/484 [==============================] - 5s 10ms/step - loss: 1.8214 - accuracy: 0.6672\n",
            "Epoch 77/100\n",
            "484/484 [==============================] - 5s 10ms/step - loss: 1.7910 - accuracy: 0.6748\n",
            "Epoch 78/100\n",
            "484/484 [==============================] - 5s 10ms/step - loss: 1.7793 - accuracy: 0.6760\n",
            "Epoch 79/100\n",
            "484/484 [==============================] - 5s 10ms/step - loss: 1.7682 - accuracy: 0.6766\n",
            "Epoch 80/100\n",
            "484/484 [==============================] - 5s 10ms/step - loss: 1.7332 - accuracy: 0.6859\n",
            "Epoch 81/100\n",
            "484/484 [==============================] - 5s 10ms/step - loss: 1.7109 - accuracy: 0.6905\n",
            "Epoch 82/100\n",
            "484/484 [==============================] - 5s 10ms/step - loss: 1.6770 - accuracy: 0.6983\n",
            "Epoch 83/100\n",
            "484/484 [==============================] - 5s 10ms/step - loss: 1.6654 - accuracy: 0.7000\n",
            "Epoch 84/100\n",
            "484/484 [==============================] - 5s 10ms/step - loss: 1.6568 - accuracy: 0.7035\n",
            "Epoch 85/100\n",
            "484/484 [==============================] - 5s 10ms/step - loss: 1.6214 - accuracy: 0.7117\n",
            "Epoch 86/100\n",
            "484/484 [==============================] - 5s 10ms/step - loss: 1.6053 - accuracy: 0.7137\n",
            "Epoch 87/100\n",
            "484/484 [==============================] - 5s 10ms/step - loss: 1.5836 - accuracy: 0.7151\n",
            "Epoch 88/100\n",
            "484/484 [==============================] - 5s 10ms/step - loss: 1.5603 - accuracy: 0.7254\n",
            "Epoch 89/100\n",
            "484/484 [==============================] - 5s 10ms/step - loss: 1.5343 - accuracy: 0.7269\n",
            "Epoch 90/100\n",
            "484/484 [==============================] - 5s 10ms/step - loss: 1.5342 - accuracy: 0.7302\n",
            "Epoch 91/100\n",
            "484/484 [==============================] - 5s 10ms/step - loss: 1.5022 - accuracy: 0.7330\n",
            "Epoch 92/100\n",
            "484/484 [==============================] - 5s 10ms/step - loss: 1.4956 - accuracy: 0.7320\n",
            "Epoch 93/100\n",
            "484/484 [==============================] - 5s 10ms/step - loss: 1.4739 - accuracy: 0.7393\n",
            "Epoch 94/100\n",
            "484/484 [==============================] - 5s 10ms/step - loss: 1.4660 - accuracy: 0.7413\n",
            "Epoch 95/100\n",
            "484/484 [==============================] - 5s 10ms/step - loss: 1.4430 - accuracy: 0.7445\n",
            "Epoch 96/100\n",
            "484/484 [==============================] - 5s 10ms/step - loss: 1.4362 - accuracy: 0.7465\n",
            "Epoch 97/100\n",
            "484/484 [==============================] - 5s 10ms/step - loss: 1.4076 - accuracy: 0.7505\n",
            "Epoch 98/100\n",
            "484/484 [==============================] - 5s 10ms/step - loss: 1.4007 - accuracy: 0.7538\n",
            "Epoch 99/100\n",
            "484/484 [==============================] - 5s 10ms/step - loss: 1.3910 - accuracy: 0.7578\n",
            "Epoch 100/100\n",
            "484/484 [==============================] - 5s 10ms/step - loss: 1.3697 - accuracy: 0.7571\n"
          ],
          "name": "stdout"
        }
      ]
    },
    {
      "cell_type": "code",
      "metadata": {
        "colab_type": "code",
        "id": "1fXTEO3GJ282",
        "colab": {
          "base_uri": "https://localhost:8080/",
          "height": 545
        },
        "outputId": "7d3af4f7-3c02-424a-9022-890ae092375d"
      },
      "source": [
        "import matplotlib.pyplot as plt\n",
        "acc = history.history['accuracy']\n",
        "loss = history.history['loss']\n",
        "\n",
        "epochs = range(len(acc))\n",
        "\n",
        "plt.plot(epochs, acc, 'b', label='Training accuracy')\n",
        "plt.title('Training accuracy')\n",
        "\n",
        "plt.figure()\n",
        "\n",
        "plt.plot(epochs, loss, 'b', label='Training Loss')\n",
        "plt.title('Training loss')\n",
        "plt.legend()\n",
        "\n",
        "plt.show()"
      ],
      "execution_count": 5,
      "outputs": [
        {
          "output_type": "display_data",
          "data": {
            "image/png": "[encoded data removed]",
            "text/plain": [
              "<Figure size 432x288 with 1 Axes>"
            ]
          },
          "metadata": {
            "tags": [],
            "needs_background": "light"
          }
        },
        {
          "output_type": "display_data",
          "data": {
            "image/png": "[encoded data removed]",
            "text/plain": [
              "<Figure size 432x288 with 1 Axes>"
            ]
          },
          "metadata": {
            "tags": [],
            "needs_background": "light"
          }
        }
      ]
    },
    {
      "cell_type": "code",
      "metadata": {
        "colab_type": "code",
        "id": "6Vc6PHgxa6Hm",
        "colab": {
          "base_uri": "https://localhost:8080/",
          "height": 105
        },
        "outputId": "3eddde0d-9102-4128-bbac-5cddfdaef610"
      },
      "source": [
        "seed_text = \"Help me Obi Wan Kenobi, you're my only hope\"\n",
        "next_words = 100\n",
        "  \n",
        "for _ in range(next_words):\n",
        "\ttoken_list = tokenizer.texts_to_sequences([seed_text])[0]\n",
        "\ttoken_list = pad_sequences([token_list], maxlen=max_sequence_len-1, padding='pre')\n",
        "\tpredicted = model.predict_classes(token_list, verbose=0)\n",
        "\toutput_word = \"\"\n",
        "\tfor word, index in tokenizer.word_index.items():\n",
        "\t\tif index == predicted:\n",
        "\t\t\toutput_word = word\n",
        "\t\t\tbreak\n",
        "\tseed_text += \" \" + output_word\n",
        "print(seed_text)"
      ],
      "execution_count": 6,
      "outputs": [
        {
          "output_type": "stream",
          "text": [
            "WARNING:tensorflow:From <ipython-input-6-622d307fa19a>:7: Sequential.predict_classes (from tensorflow.python.keras.engine.sequential) is deprecated and will be removed after 2021-01-01.\n",
            "Instructions for updating:\n",
            "Please use instead:* `np.argmax(model.predict(x), axis=-1)`,   if your model does multi-class classification   (e.g. if it uses a `softmax` last-layer activation).* `(model.predict(x) > 0.5).astype(\"int32\")`,   if your model does binary classification   (e.g. if it uses a `sigmoid` last-layer activation).\n",
            "Help me Obi Wan Kenobi, you're my only hope a dream and more lie her one can bear his part of days will bar now done hate common prove thine prove new dead pride doth stand shows not shame now none care it delight ' sang toil'd long disdain increase light shown near slain grow light still grow light still days despair not lie of life days one winter's spent light small deeds come slow light dead pride doth words ' light torn torn stay now pain show done have thine age that this own state that me confined doom of weary bow level new say confounds it so\n"
          ],
          "name": "stdout"
        }
      ]
    },
    {
      "cell_type": "code",
      "metadata": {
        "id": "gjClvW0gnwaw",
        "colab_type": "code",
        "colab": {}
      },
      "source": [
        ""
      ],
      "execution_count": 0,
      "outputs": []
    }
  ]
}