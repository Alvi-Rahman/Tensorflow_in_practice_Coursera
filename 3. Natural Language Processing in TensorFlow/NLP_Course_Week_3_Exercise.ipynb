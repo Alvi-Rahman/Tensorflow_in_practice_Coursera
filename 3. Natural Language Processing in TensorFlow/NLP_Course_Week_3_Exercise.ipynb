{
  "nbformat": 4,
  "nbformat_minor": 0,
  "metadata": {
    "accelerator": "GPU",
    "colab": {
      "name": "NLP Course - Week 3 Exercise Answer.ipynb",
      "provenance": [],
      "toc_visible": true
    },
    "kernelspec": {
      "display_name": "Python 3",
      "name": "python3"
    }
  },
  "cells": [
    {
      "cell_type": "code",
      "metadata": {
        "id": "zX4Kg8DUTKWO",
        "colab_type": "code",
        "colab": {}
      },
      "source": [
        "#@title Licensed under the Apache License, Version 2.0 (the \"License\");\n",
        "# you may not use this file except in compliance with the License.\n",
        "# You may obtain a copy of the License at\n",
        "#\n",
        "# https://www.apache.org/licenses/LICENSE-2.0\n",
        "#\n",
        "# Unless required by applicable law or agreed to in writing, software\n",
        "# distributed under the License is distributed on an \"AS IS\" BASIS,\n",
        "# WITHOUT WARRANTIES OR CONDITIONS OF ANY KIND, either express or implied.\n",
        "# See the License for the specific language governing permissions and\n",
        "# limitations under the License."
      ],
      "execution_count": 0,
      "outputs": []
    },
    {
      "cell_type": "code",
      "metadata": {
        "colab_type": "code",
        "id": "hmA6EzkQJ5jt",
        "colab": {}
      },
      "source": [
        "import json\n",
        "import tensorflow as tf\n",
        "import csv\n",
        "import random\n",
        "import numpy as np\n",
        "\n",
        "from tensorflow.keras.preprocessing.text import Tokenizer\n",
        "from tensorflow.keras.preprocessing.sequence import pad_sequences\n",
        "from tensorflow.keras.utils import to_categorical\n",
        "from tensorflow.keras import regularizers\n",
        "\n",
        "\n",
        "embedding_dim = 100\n",
        "max_length = 16\n",
        "trunc_type='post'\n",
        "padding_type='post'\n",
        "oov_tok = \"<OOV>\"\n",
        "training_size=160000\n",
        "test_portion=.1\n",
        "\n",
        "corpus = []\n"
      ],
      "execution_count": 0,
      "outputs": []
    },
    {
      "cell_type": "code",
      "metadata": {
        "colab_type": "code",
        "id": "bM0l_dORKqE0",
        "outputId": "e2efaafc-2d2d-4729-e460-3570a80df0fb",
        "colab": {
          "base_uri": "https://localhost:8080/",
          "height": 204
        }
      },
      "source": [
        "# Note that I cleaned the Stanford dataset to remove LATIN1 encoding to make it easier for Python CSV reader\n",
        "# You can do that yourself with:\n",
        "# iconv -f LATIN1 -t UTF8 training.1600000.processed.noemoticon.csv -o training_cleaned.csv\n",
        "# I then hosted it on my site to make it easier to use in this notebook\n",
        "\n",
        "!wget --no-check-certificate \\\n",
        "    https://storage.googleapis.com/laurencemoroney-blog.appspot.com/training_cleaned.csv \\\n",
        "    -O /tmp/training_cleaned.csv\n",
        "\n",
        "num_sentences = 0\n",
        "\n",
        "with open(\"/tmp/training_cleaned.csv\") as csvfile:\n",
        "    reader = csv.reader(csvfile, delimiter=',')\n",
        "    for row in reader:\n",
        "        list_item=[]\n",
        "        list_item.append(row[5])\n",
        "        this_label=row[0]\n",
        "        if this_label=='0':\n",
        "            list_item.append(0)\n",
        "        else:\n",
        "            list_item.append(1)\n",
        "        num_sentences = num_sentences + 1\n",
        "        corpus.append(list_item)\n"
      ],
      "execution_count": 2,
      "outputs": [
        {
          "output_type": "stream",
          "text": [
            "--2020-06-04 13:51:46--  https://storage.googleapis.com/laurencemoroney-blog.appspot.com/training_cleaned.csv\n",
            "Resolving storage.googleapis.com (storage.googleapis.com)... 74.125.204.128, 2404:6800:4008:c06::80\n",
            "Connecting to storage.googleapis.com (storage.googleapis.com)|74.125.204.128|:443... connected.\n",
            "HTTP request sent, awaiting response... 200 OK\n",
            "Length: 238942690 (228M) [application/octet-stream]\n",
            "Saving to: ‘/tmp/training_cleaned.csv’\n",
            "\n",
            "/tmp/training_clean 100%[===================>] 227.87M   112MB/s    in 2.0s    \n",
            "\n",
            "2020-06-04 13:51:48 (112 MB/s) - ‘/tmp/training_cleaned.csv’ saved [238942690/238942690]\n",
            "\n"
          ],
          "name": "stdout"
        }
      ]
    },
    {
      "cell_type": "code",
      "metadata": {
        "colab_type": "code",
        "id": "3kxblBUjEUX-",
        "outputId": "91c854a2-d6b2-4227-cfe8-4f85562d936a",
        "colab": {
          "base_uri": "https://localhost:8080/",
          "height": 68
        }
      },
      "source": [
        "print(num_sentences)\n",
        "print(len(corpus))\n",
        "print(corpus[1])\n",
        "\n",
        "# Expected Output:\n",
        "# 1600000\n",
        "# 1600000\n",
        "# [\"is upset that he can't update his Facebook by texting it... and might cry as a result  School today also. Blah!\", 0]"
      ],
      "execution_count": 3,
      "outputs": [
        {
          "output_type": "stream",
          "text": [
            "1600000\n",
            "1600000\n",
            "[\"is upset that he can't update his Facebook by texting it... and might cry as a result  School today also. Blah!\", 0]\n"
          ],
          "name": "stdout"
        }
      ]
    },
    {
      "cell_type": "code",
      "metadata": {
        "colab_type": "code",
        "id": "ohOGz24lsNAD",
        "colab": {}
      },
      "source": [
        "sentences=[]\n",
        "labels=[]\n",
        "random.shuffle(corpus)\n",
        "for x in range(training_size):\n",
        "    sentences.append(corpus[x][0])\n",
        "    labels.append(corpus[x][1])\n",
        "\n",
        "\n",
        "tokenizer = Tokenizer()\n",
        "tokenizer.fit_on_texts(sentences)\n",
        "\n",
        "word_index = tokenizer.word_index\n",
        "vocab_size=len(word_index)\n",
        "\n",
        "sequences = tokenizer.texts_to_sequences(sentences)\n",
        "padded = pad_sequences(sequences, maxlen=max_length, padding=padding_type, truncating=trunc_type)\n",
        "\n",
        "split = int(test_portion * training_size)\n",
        "\n",
        "test_sequences = padded[0:split]\n",
        "training_sequences = padded[split:training_size]\n",
        "test_labels = labels[0:split]\n",
        "training_labels = labels[split:training_size]"
      ],
      "execution_count": 0,
      "outputs": []
    },
    {
      "cell_type": "code",
      "metadata": {
        "colab_type": "code",
        "id": "gIrtRem1En3N",
        "outputId": "2f0a1adf-1d3f-4d08-a45d-9d32dfd639ca",
        "colab": {
          "base_uri": "https://localhost:8080/",
          "height": 51
        }
      },
      "source": [
        "print(vocab_size)\n",
        "print(word_index['i'])\n",
        "# Expected Output\n",
        "# 138858\n",
        "# 1"
      ],
      "execution_count": 5,
      "outputs": [
        {
          "output_type": "stream",
          "text": [
            "138535\n",
            "1\n"
          ],
          "name": "stdout"
        }
      ]
    },
    {
      "cell_type": "code",
      "metadata": {
        "colab_type": "code",
        "id": "C1zdgJkusRh0",
        "outputId": "93d712fd-0f80-43ff-97cb-f2f74311b913",
        "colab": {
          "base_uri": "https://localhost:8080/",
          "height": 204
        }
      },
      "source": [
        "# Note this is the 100 dimension version of GloVe from Stanford\n",
        "# I unzipped and hosted it on my site to make this notebook easier\n",
        "!wget --no-check-certificate \\\n",
        "    https://storage.googleapis.com/laurencemoroney-blog.appspot.com/glove.6B.100d.txt \\\n",
        "    -O /tmp/glove.6B.100d.txt\n",
        "embeddings_index = {};\n",
        "with open('/tmp/glove.6B.100d.txt') as f:\n",
        "    for line in f:\n",
        "        values = line.split();\n",
        "        word = values[0];\n",
        "        coefs = np.asarray(values[1:], dtype='float32');\n",
        "        embeddings_index[word] = coefs;\n",
        "\n",
        "embeddings_matrix = np.zeros((vocab_size+1, embedding_dim));\n",
        "for word, i in word_index.items():\n",
        "    embedding_vector = embeddings_index.get(word);\n",
        "    if embedding_vector is not None:\n",
        "        embeddings_matrix[i] = embedding_vector;"
      ],
      "execution_count": 6,
      "outputs": [
        {
          "output_type": "stream",
          "text": [
            "--2020-06-04 13:52:17--  https://storage.googleapis.com/laurencemoroney-blog.appspot.com/glove.6B.100d.txt\n",
            "Resolving storage.googleapis.com (storage.googleapis.com)... 74.125.204.128, 2404:6800:4008:c04::80\n",
            "Connecting to storage.googleapis.com (storage.googleapis.com)|74.125.204.128|:443... connected.\n",
            "HTTP request sent, awaiting response... 200 OK\n",
            "Length: 347116733 (331M) [text/plain]\n",
            "Saving to: ‘/tmp/glove.6B.100d.txt’\n",
            "\n",
            "/tmp/glove.6B.100d. 100%[===================>] 331.04M   171MB/s    in 1.9s    \n",
            "\n",
            "2020-06-04 13:52:19 (171 MB/s) - ‘/tmp/glove.6B.100d.txt’ saved [347116733/347116733]\n",
            "\n"
          ],
          "name": "stdout"
        }
      ]
    },
    {
      "cell_type": "code",
      "metadata": {
        "colab_type": "code",
        "id": "71NLk_lpFLNt",
        "outputId": "ffee57e5-1426-47f5-8610-8e99816ceab8",
        "colab": {
          "base_uri": "https://localhost:8080/",
          "height": 34
        }
      },
      "source": [
        "print(len(embeddings_matrix))\n",
        "# Expected Output\n",
        "# 138859"
      ],
      "execution_count": 7,
      "outputs": [
        {
          "output_type": "stream",
          "text": [
            "138536\n"
          ],
          "name": "stdout"
        }
      ]
    },
    {
      "cell_type": "code",
      "metadata": {
        "id": "oIF6xx_klcSh",
        "colab_type": "code",
        "colab": {
          "base_uri": "https://localhost:8080/",
          "height": 34
        },
        "outputId": "d907b6e1-782d-459a-e5b9-65a16ece0e43"
      },
      "source": [
        "training_sequences.shape"
      ],
      "execution_count": 8,
      "outputs": [
        {
          "output_type": "execute_result",
          "data": {
            "text/plain": [
              "(144000, 16)"
            ]
          },
          "metadata": {
            "tags": []
          },
          "execution_count": 8
        }
      ]
    },
    {
      "cell_type": "code",
      "metadata": {
        "id": "fVexWsYdlgFu",
        "colab_type": "code",
        "colab": {}
      },
      "source": [
        "training_labels = np.array(training_labels)"
      ],
      "execution_count": 0,
      "outputs": []
    },
    {
      "cell_type": "code",
      "metadata": {
        "id": "R-xKcelil0_e",
        "colab_type": "code",
        "colab": {
          "base_uri": "https://localhost:8080/",
          "height": 34
        },
        "outputId": "2d96313f-496e-424f-f811-8333d880efde"
      },
      "source": [
        "training_labels.shape"
      ],
      "execution_count": 11,
      "outputs": [
        {
          "output_type": "execute_result",
          "data": {
            "text/plain": [
              "(144000,)"
            ]
          },
          "metadata": {
            "tags": []
          },
          "execution_count": 11
        }
      ]
    },
    {
      "cell_type": "code",
      "metadata": {
        "id": "SL8fxjDMm3k4",
        "colab_type": "code",
        "colab": {}
      },
      "source": [
        "training_labels.resize(144000,1)"
      ],
      "execution_count": 0,
      "outputs": []
    },
    {
      "cell_type": "code",
      "metadata": {
        "id": "zkDmCY2knAAG",
        "colab_type": "code",
        "colab": {
          "base_uri": "https://localhost:8080/",
          "height": 34
        },
        "outputId": "daaba728-9f0f-46f5-9ea8-2eabcf9a9032"
      },
      "source": [
        "training_labels.shape"
      ],
      "execution_count": 17,
      "outputs": [
        {
          "output_type": "execute_result",
          "data": {
            "text/plain": [
              "(144000, 1)"
            ]
          },
          "metadata": {
            "tags": []
          },
          "execution_count": 17
        }
      ]
    },
    {
      "cell_type": "code",
      "metadata": {
        "id": "I6MbMudIlj0w",
        "colab_type": "code",
        "colab": {
          "base_uri": "https://localhost:8080/",
          "height": 34
        },
        "outputId": "4a4313db-c5a7-44b3-dd07-de57f6b691e3"
      },
      "source": [
        "test_sequences.shape"
      ],
      "execution_count": 18,
      "outputs": [
        {
          "output_type": "execute_result",
          "data": {
            "text/plain": [
              "(16000, 16)"
            ]
          },
          "metadata": {
            "tags": []
          },
          "execution_count": 18
        }
      ]
    },
    {
      "cell_type": "code",
      "metadata": {
        "id": "Oeg2iCs9nVdd",
        "colab_type": "code",
        "colab": {}
      },
      "source": [
        "test_labels = np.array(test_labels)"
      ],
      "execution_count": 0,
      "outputs": []
    },
    {
      "cell_type": "code",
      "metadata": {
        "id": "-M5V7oVYneH_",
        "colab_type": "code",
        "colab": {}
      },
      "source": [
        "test_labels.resize(16000,1)"
      ],
      "execution_count": 0,
      "outputs": []
    },
    {
      "cell_type": "code",
      "metadata": {
        "id": "svqQjS1-nYKd",
        "colab_type": "code",
        "colab": {}
      },
      "source": [
        ""
      ],
      "execution_count": 0,
      "outputs": []
    },
    {
      "cell_type": "code",
      "metadata": {
        "colab_type": "code",
        "id": "iKKvbuEBOGFz",
        "colab": {
          "base_uri": "https://localhost:8080/",
          "height": 1000
        },
        "outputId": "51132098-fde0-4f81-b02c-3a6441069f2d"
      },
      "source": [
        "model = tf.keras.Sequential([\n",
        "    tf.keras.layers.Embedding(vocab_size+1, embedding_dim, input_length=max_length, weights=[embeddings_matrix], trainable=False),\n",
        "    tf.keras.layers.Dropout(0.2),\n",
        "    tf.keras.layers.Conv1D(64, 5, activation='relu'),\n",
        "    tf.keras.layers.MaxPooling1D(pool_size=4),\n",
        "    tf.keras.layers.LSTM(64),\n",
        "    tf.keras.layers.Dense(1, activation='sigmoid')\n",
        "])\n",
        "model.compile(loss='binary_crossentropy',optimizer='adam',metrics=['accuracy'])\n",
        "model.summary()\n",
        "\n",
        "num_epochs = 50\n",
        "history = model.fit(training_sequences, training_labels, epochs=num_epochs, validation_data=(test_sequences, test_labels), verbose=2)\n",
        "\n",
        "print(\"Training Complete\")\n"
      ],
      "execution_count": 23,
      "outputs": [
        {
          "output_type": "stream",
          "text": [
            "Model: \"sequential\"\n",
            "_________________________________________________________________\n",
            "Layer (type)                 Output Shape              Param #   \n",
            "=================================================================\n",
            "embedding (Embedding)        (None, 16, 100)           13853600  \n",
            "_________________________________________________________________\n",
            "dropout (Dropout)            (None, 16, 100)           0         \n",
            "_________________________________________________________________\n",
            "conv1d (Conv1D)              (None, 12, 64)            32064     \n",
            "_________________________________________________________________\n",
            "max_pooling1d (MaxPooling1D) (None, 3, 64)             0         \n",
            "_________________________________________________________________\n",
            "lstm (LSTM)                  (None, 64)                33024     \n",
            "_________________________________________________________________\n",
            "dense (Dense)                (None, 1)                 65        \n",
            "=================================================================\n",
            "Total params: 13,918,753\n",
            "Trainable params: 65,153\n",
            "Non-trainable params: 13,853,600\n",
            "_________________________________________________________________\n",
            "Epoch 1/50\n",
            "4500/4500 - 21s - loss: 0.5670 - accuracy: 0.6999 - val_loss: 0.5370 - val_accuracy: 0.7204\n",
            "Epoch 2/50\n",
            "4500/4500 - 20s - loss: 0.5294 - accuracy: 0.7301 - val_loss: 0.5177 - val_accuracy: 0.7358\n",
            "Epoch 3/50\n",
            "4500/4500 - 21s - loss: 0.5112 - accuracy: 0.7426 - val_loss: 0.5162 - val_accuracy: 0.7352\n",
            "Epoch 4/50\n",
            "4500/4500 - 22s - loss: 0.5008 - accuracy: 0.7508 - val_loss: 0.5117 - val_accuracy: 0.7398\n",
            "Epoch 5/50\n",
            "4500/4500 - 21s - loss: 0.4927 - accuracy: 0.7555 - val_loss: 0.5072 - val_accuracy: 0.7423\n",
            "Epoch 6/50\n",
            "4500/4500 - 21s - loss: 0.4845 - accuracy: 0.7613 - val_loss: 0.5197 - val_accuracy: 0.7393\n",
            "Epoch 7/50\n",
            "4500/4500 - 21s - loss: 0.4807 - accuracy: 0.7638 - val_loss: 0.5108 - val_accuracy: 0.7444\n",
            "Epoch 8/50\n",
            "4500/4500 - 21s - loss: 0.4742 - accuracy: 0.7681 - val_loss: 0.5109 - val_accuracy: 0.7423\n",
            "Epoch 9/50\n",
            "4500/4500 - 21s - loss: 0.4700 - accuracy: 0.7701 - val_loss: 0.5083 - val_accuracy: 0.7466\n",
            "Epoch 10/50\n",
            "4500/4500 - 21s - loss: 0.4657 - accuracy: 0.7729 - val_loss: 0.5262 - val_accuracy: 0.7370\n",
            "Epoch 11/50\n",
            "4500/4500 - 21s - loss: 0.4624 - accuracy: 0.7745 - val_loss: 0.5157 - val_accuracy: 0.7414\n",
            "Epoch 12/50\n",
            "4500/4500 - 21s - loss: 0.4598 - accuracy: 0.7772 - val_loss: 0.5155 - val_accuracy: 0.7421\n",
            "Epoch 13/50\n",
            "4500/4500 - 21s - loss: 0.4571 - accuracy: 0.7788 - val_loss: 0.5180 - val_accuracy: 0.7444\n",
            "Epoch 14/50\n",
            "4500/4500 - 21s - loss: 0.4532 - accuracy: 0.7814 - val_loss: 0.5229 - val_accuracy: 0.7440\n",
            "Epoch 15/50\n",
            "4500/4500 - 21s - loss: 0.4519 - accuracy: 0.7814 - val_loss: 0.5205 - val_accuracy: 0.7428\n",
            "Epoch 16/50\n",
            "4500/4500 - 21s - loss: 0.4499 - accuracy: 0.7829 - val_loss: 0.5255 - val_accuracy: 0.7417\n",
            "Epoch 17/50\n",
            "4500/4500 - 21s - loss: 0.4484 - accuracy: 0.7839 - val_loss: 0.5181 - val_accuracy: 0.7442\n",
            "Epoch 18/50\n",
            "4500/4500 - 21s - loss: 0.4472 - accuracy: 0.7838 - val_loss: 0.5205 - val_accuracy: 0.7385\n",
            "Epoch 19/50\n",
            "4500/4500 - 22s - loss: 0.4440 - accuracy: 0.7865 - val_loss: 0.5225 - val_accuracy: 0.7410\n",
            "Epoch 20/50\n",
            "4500/4500 - 21s - loss: 0.4444 - accuracy: 0.7866 - val_loss: 0.5211 - val_accuracy: 0.7404\n",
            "Epoch 21/50\n",
            "4500/4500 - 21s - loss: 0.4428 - accuracy: 0.7874 - val_loss: 0.5243 - val_accuracy: 0.7389\n",
            "Epoch 22/50\n",
            "4500/4500 - 21s - loss: 0.4420 - accuracy: 0.7885 - val_loss: 0.5223 - val_accuracy: 0.7411\n",
            "Epoch 23/50\n",
            "4500/4500 - 22s - loss: 0.4412 - accuracy: 0.7882 - val_loss: 0.5265 - val_accuracy: 0.7411\n",
            "Epoch 24/50\n",
            "4500/4500 - 21s - loss: 0.4381 - accuracy: 0.7913 - val_loss: 0.5298 - val_accuracy: 0.7422\n",
            "Epoch 25/50\n",
            "4500/4500 - 21s - loss: 0.4398 - accuracy: 0.7894 - val_loss: 0.5214 - val_accuracy: 0.7415\n",
            "Epoch 26/50\n",
            "4500/4500 - 21s - loss: 0.4373 - accuracy: 0.7907 - val_loss: 0.5240 - val_accuracy: 0.7432\n",
            "Epoch 27/50\n",
            "4500/4500 - 22s - loss: 0.4374 - accuracy: 0.7906 - val_loss: 0.5290 - val_accuracy: 0.7418\n",
            "Epoch 28/50\n",
            "4500/4500 - 21s - loss: 0.4366 - accuracy: 0.7922 - val_loss: 0.5266 - val_accuracy: 0.7428\n",
            "Epoch 29/50\n",
            "4500/4500 - 21s - loss: 0.4341 - accuracy: 0.7934 - val_loss: 0.5278 - val_accuracy: 0.7441\n",
            "Epoch 30/50\n",
            "4500/4500 - 21s - loss: 0.4356 - accuracy: 0.7917 - val_loss: 0.5216 - val_accuracy: 0.7449\n",
            "Epoch 31/50\n",
            "4500/4500 - 21s - loss: 0.4333 - accuracy: 0.7934 - val_loss: 0.5323 - val_accuracy: 0.7386\n",
            "Epoch 32/50\n",
            "4500/4500 - 21s - loss: 0.4317 - accuracy: 0.7943 - val_loss: 0.5302 - val_accuracy: 0.7409\n",
            "Epoch 33/50\n",
            "4500/4500 - 22s - loss: 0.4340 - accuracy: 0.7939 - val_loss: 0.5255 - val_accuracy: 0.7404\n",
            "Epoch 34/50\n",
            "4500/4500 - 21s - loss: 0.4335 - accuracy: 0.7929 - val_loss: 0.5253 - val_accuracy: 0.7417\n",
            "Epoch 35/50\n",
            "4500/4500 - 21s - loss: 0.4336 - accuracy: 0.7932 - val_loss: 0.5302 - val_accuracy: 0.7449\n",
            "Epoch 36/50\n",
            "4500/4500 - 21s - loss: 0.4321 - accuracy: 0.7944 - val_loss: 0.5348 - val_accuracy: 0.7391\n",
            "Epoch 37/50\n",
            "4500/4500 - 22s - loss: 0.4298 - accuracy: 0.7939 - val_loss: 0.5303 - val_accuracy: 0.7386\n",
            "Epoch 38/50\n",
            "4500/4500 - 21s - loss: 0.4303 - accuracy: 0.7961 - val_loss: 0.5377 - val_accuracy: 0.7401\n",
            "Epoch 39/50\n",
            "4500/4500 - 21s - loss: 0.4318 - accuracy: 0.7943 - val_loss: 0.5286 - val_accuracy: 0.7401\n",
            "Epoch 40/50\n",
            "4500/4500 - 21s - loss: 0.4295 - accuracy: 0.7950 - val_loss: 0.5358 - val_accuracy: 0.7379\n",
            "Epoch 41/50\n",
            "4500/4500 - 21s - loss: 0.4305 - accuracy: 0.7944 - val_loss: 0.5332 - val_accuracy: 0.7421\n",
            "Epoch 42/50\n",
            "4500/4500 - 21s - loss: 0.4293 - accuracy: 0.7954 - val_loss: 0.5353 - val_accuracy: 0.7386\n",
            "Epoch 43/50\n",
            "4500/4500 - 21s - loss: 0.4302 - accuracy: 0.7943 - val_loss: 0.5348 - val_accuracy: 0.7347\n",
            "Epoch 44/50\n",
            "4500/4500 - 21s - loss: 0.4301 - accuracy: 0.7955 - val_loss: 0.5362 - val_accuracy: 0.7351\n",
            "Epoch 45/50\n",
            "4500/4500 - 21s - loss: 0.4291 - accuracy: 0.7956 - val_loss: 0.5321 - val_accuracy: 0.7376\n",
            "Epoch 46/50\n",
            "4500/4500 - 21s - loss: 0.4298 - accuracy: 0.7948 - val_loss: 0.5351 - val_accuracy: 0.7402\n",
            "Epoch 47/50\n",
            "4500/4500 - 21s - loss: 0.4275 - accuracy: 0.7968 - val_loss: 0.5307 - val_accuracy: 0.7364\n",
            "Epoch 48/50\n",
            "4500/4500 - 22s - loss: 0.4280 - accuracy: 0.7961 - val_loss: 0.5285 - val_accuracy: 0.7383\n",
            "Epoch 49/50\n",
            "4500/4500 - 21s - loss: 0.4273 - accuracy: 0.7969 - val_loss: 0.5384 - val_accuracy: 0.7388\n",
            "Epoch 50/50\n",
            "4500/4500 - 21s - loss: 0.4279 - accuracy: 0.7965 - val_loss: 0.5436 - val_accuracy: 0.7405\n",
            "Training Complete\n"
          ],
          "name": "stdout"
        }
      ]
    },
    {
      "cell_type": "code",
      "metadata": {
        "colab_type": "code",
        "id": "qxju4ItJKO8F",
        "colab": {
          "base_uri": "https://localhost:8080/",
          "height": 607
        },
        "outputId": "3f8f927c-edb2-4a57-c9f1-6883965fe089"
      },
      "source": [
        "import matplotlib.image  as mpimg\n",
        "import matplotlib.pyplot as plt\n",
        "\n",
        "#-----------------------------------------------------------\n",
        "# Retrieve a list of list results on training and test data\n",
        "# sets for each training epoch\n",
        "#-----------------------------------------------------------\n",
        "acc=history.history['accuracy']\n",
        "val_acc=history.history['val_accuracy']\n",
        "loss=history.history['loss']\n",
        "val_loss=history.history['val_loss']\n",
        "\n",
        "epochs=range(len(acc)) # Get number of epochs\n",
        "\n",
        "#------------------------------------------------\n",
        "# Plot training and validation accuracy per epoch\n",
        "#------------------------------------------------\n",
        "plt.plot(epochs, acc, 'r')\n",
        "plt.plot(epochs, val_acc, 'b')\n",
        "plt.title('Training and validation accuracy')\n",
        "plt.xlabel(\"Epochs\")\n",
        "plt.ylabel(\"Accuracy\")\n",
        "plt.legend([\"Accuracy\", \"Validation Accuracy\"])\n",
        "\n",
        "plt.figure()\n",
        "\n",
        "#------------------------------------------------\n",
        "# Plot training and validation loss per epoch\n",
        "#------------------------------------------------\n",
        "plt.plot(epochs, loss, 'r')\n",
        "plt.plot(epochs, val_loss, 'b')\n",
        "plt.title('Training and validation loss')\n",
        "plt.xlabel(\"Epochs\")\n",
        "plt.ylabel(\"Loss\")\n",
        "plt.legend([\"Loss\", \"Validation Loss\"])\n",
        "\n",
        "plt.figure()\n",
        "\n",
        "\n",
        "# Expected Output\n",
        "# A chart where the validation loss does not increase sharply!"
      ],
      "execution_count": 24,
      "outputs": [
        {
          "output_type": "execute_result",
          "data": {
            "text/plain": [
              "<Figure size 432x288 with 0 Axes>"
            ]
          },
          "metadata": {
            "tags": []
          },
          "execution_count": 24
        },
        {
          "output_type": "display_data",
          "data": {
            "image/png": "[encoded data removed]",
            "text/plain": [
              "<Figure size 432x288 with 1 Axes>"
            ]
          },
          "metadata": {
            "tags": [],
            "needs_background": "light"
          }
        },
        {
          "output_type": "display_data",
          "data": {
            "image/png": "[encoded data removed]",
            "text/plain": [
              "<Figure size 432x288 with 1 Axes>"
            ]
          },
          "metadata": {
            "tags": [],
            "needs_background": "light"
          }
        },
        {
          "output_type": "display_data",
          "data": {
            "text/plain": [
              "<Figure size 432x288 with 0 Axes>"
            ]
          },
          "metadata": {
            "tags": []
          }
        }
      ]
    },
    {
      "cell_type": "code",
      "metadata": {
        "id": "ho9HobqhqMsr",
        "colab_type": "code",
        "colab": {}
      },
      "source": [
        ""
      ],
      "execution_count": 0,
      "outputs": []
    }
  ]
}